{
 "cells": [
  {
   "cell_type": "code",
   "execution_count": null,
   "metadata": {},
   "outputs": [],
   "source": [
    "# Build Your Own Blog (BYOB)\n",
    "\n",
    "We are going to have you set up your own blog and make a covid dashboard on it, which looks a bit like:\n",
    "\n",
    "![](images/dashboard.png)\n",
    "\n",
    "You work in this question involves:\n",
    "\n",
    "1. setting up the blos\n",
    "2. writing a notebook with a dashboard including filling in two code cells starting with:\n",
    "\n",
    "```python\n",
    "# your code here\n",
    "```\n",
    "\n",
    "to do some pandas manipulations\n",
    "\n",
    "3. Understanding the other pandas and gridspec code used\n",
    "4. Putting your notebook on the blog\n",
    "5. OPTIONAL AND EXTRA CREDIT: downloading new data every day and updating the dashboard using github actions"
   ]
  },
  {
   "cell_type": "markdown",
   "metadata": {},
   "source": [
    "### Why you **must** blog about your work\n",
    "\n",
    "For a data scientist, your projects are *more important* than any certification.\n",
    "\n",
    "Read this fantastic post by Jeremy Howard, founder of [fast.ai](https://www.fast.ai/) about the [importance of blogging](https://www.fast.ai/2020/01/16/fast_template/).\n",
    "\n",
    "Nowadays, setting up your blog is not too difficult, but it can get a little unwieldy. \n",
    "\n",
    "We want you to quickly get online, so that you can share your work with friends, professors (& recruiters).\n",
    "\n",
    "So in the first part of the exercise, you will:\n",
    "\n",
    "1. **Set up your own custom data science blog**\n",
    "2. **Make your own custom covid19 dashboard**\n",
    "3. **Publish your dashboard on your newly minted blog**"
   ]
  },
  {
   "cell_type": "markdown",
   "metadata": {},
   "source": [
    "## 1.1 - Setting up your custom blog live!"
   ]
  },
  {
   "cell_type": "markdown",
   "metadata": {},
   "source": [
    "There are several options to build a data science blog, with *Jekyll* & *Hugo* being the most popular static-site generators.\n",
    "\n",
    "But we recommend that you build your blog using [fastpages](https://fastpages.fast.ai/), a powerful static site generator built on top of Jekyll & Github Actions that can render your jupyter notebooks online, without too much effort.\n",
    "\n",
    "We're sure you will love it, so for this homework, we want you to build one for yourself, even if you may have your own customized blog already made.\n"
   ]
  },
  {
   "cell_type": "markdown",
   "metadata": {},
   "source": [
    "### FastPages"
   ]
  },
  {
   "cell_type": "markdown",
   "metadata": {},
   "source": [
    "- Follow build instructions [here](https://fastpages.fast.ai/)\n",
    "- If you're more of a video person, follow video instructions [here](https://www.youtube.com/watch?v=L0boq3zqazI)\n",
    "\n",
    "If you follow the build instructions correctly, we expect you to have a github repo with all the files necessary to keep your blog live.\n",
    "\n",
    "**Tip** : Make sure you clone your blog repo to your local machine. We may need it to modify it later.\n",
    "\n",
    "At this point, **please make sure to send the URL of your blog repo to submissions@univ.ai .** In this email include your univ.ai id. We will use it you grade you as well as give you instructions to set up on github a custom `univai_username.posts.ai` site for your blogs.\n",
    "\n",
    "Your blog will look something like [this](http://gensectimes.com/BargainBlog/)\n",
    "\n"
   ]
  },
  {
   "cell_type": "markdown",
   "metadata": {},
   "source": [
    "## 1.2 - Making your custom covid19 dashboard"
   ]
  },
  {
   "cell_type": "markdown",
   "metadata": {},
   "source": [
    "### Covid-19 Dashboard - India\n",
    "\n",
    "Covid19 cases have exponentially grown in India since the first 100 cases on ```14th March 2020```.\n",
    "\n",
    "Tracking covid19 in India is a difficult task because of India's population. \n",
    "\n",
    "Even the most popular dashboard by [Johns Hopkins](https://coronavirus.jhu.edu/map.html) only covers data for India at the national level.\n",
    "\n",
    "The goal of this exercise is to make your own custom statelevel dashboard for ```cases``` & ```deaths```.\n",
    "\n",
    "The idea is to use simple python libraries ```pandas``` & ```matplotlib``` to make basic, but demonstrative plots.\n",
    "\n",
    "We have provided for you two files.\n",
    "\n",
    "- SnapshotCases-28-July.csv\n",
    "- SnapshotDeaths-28-July.csv\n",
    "\n",
    "Both contain statewise cumulative counts for each day since ```14-Mar-2020```, thanks to the helpful people at [covid19india.org](https://www.covid19india.org/)\n",
    "\n",
    "First create a new notebook somewhere, which will map to a single blog post on your blog. (Fastpages makes it very easy to convert jupyter notebooks to blog posts).\n",
    "\n",
    "Do you see the `#hide` at the top of the cell below? This means, that on a blog page, that cell will not be displayed. Use such an annotation on those cells you dont want displayed in your blog post.\n",
    "\n",
    "There are lots pf python cells that are useful below.  Use this helper code below to get started. Copy this notebook into a new file and start editing it. You will need to fill in the code cells labelled thus:\n",
    "\n",
    "```\n",
    "# your code here\n",
    "\n",
    "```\n"
   ]
  },
  {
   "cell_type": "code",
   "execution_count": 1,
   "metadata": {},
   "outputs": [],
   "source": [
    "#hide\n",
    "\n",
    "## Import essential packages below\n",
    "\n",
    "import pandas as pd\n",
    "import numpy as np\n",
    "import requests\n",
    "import json\n",
    "import matplotlib.pyplot as plt\n",
    "import matplotlib.dates as mdates\n",
    "import matplotlib as mpl\n",
    "from IPython.core.display import display,HTML\n",
    "%matplotlib inline"
   ]
  },
  {
   "cell_type": "code",
   "execution_count": 2,
   "metadata": {},
   "outputs": [],
   "source": [
    "dft_cases = pd.read_csv('data/SnapshotCases-28-July.csv')\n",
    "dft_deaths = pd.read_csv('data/SnapshotDeaths-28-July.csv')"
   ]
  },
  {
   "cell_type": "code",
   "execution_count": 3,
   "metadata": {},
   "outputs": [],
   "source": [
    "dft_cases.head()"
   ]
  },
  {
   "cell_type": "markdown",
   "metadata": {},
   "source": [
    "**Note that the numbers of cases and deaths for each day in both of these dataframes are cumulative numbers.**"
   ]
  },
  {
   "cell_type": "markdown",
   "metadata": {},
   "source": [
    "### Take a look at the dataset\n",
    "It has the **cumulative** number of cases & deaths for each data starting ```14-Mar-20```"
   ]
  },
  {
   "cell_type": "markdown",
   "metadata": {},
   "source": [
    "We need two columns of data, with the following variable names from the above data:\n",
    "\n",
    "1. `dt_today` : coulumn for Latest date (28 July)\n",
    "2. `dt_yday` : column for Date before (27 July)"
   ]
  },
  {
   "cell_type": "code",
   "execution_count": 4,
   "metadata": {},
   "outputs": [],
   "source": [
    "# your code here \n"
   ]
  },
  {
   "cell_type": "markdown",
   "metadata": {},
   "source": [
    "We also need 4 pandas series:\n",
    "\n",
    "1. dfc_cases :Total number of current cases in each state\n",
    "2. dfc_deaths : Total number of current deaths in each state\n",
    "3. dfp_cases : Total number of cases a day before in each state\n",
    "4. dfp_deaths : Total number of deaths a day before in each state"
   ]
  },
  {
   "cell_type": "code",
   "execution_count": 5,
   "metadata": {},
   "outputs": [],
   "source": [
    "#hide\n",
    "\n",
    "# Get the latest count of the total number of cases for each state across India, and also one from a day before\n",
    "\n",
    "#Here past cases are a day earlier, but this can be changed\n",
    "dfc_cases = dft_cases.groupby('states')[dt_today].sum()\n",
    "dfc_deaths = dft_deaths.groupby('states')[dt_today].sum()\n",
    "dfp_cases = dft_deaths.groupby('states')[dt_yday].sum()\n",
    "dfp_deaths = dft_deaths.groupby('states')[dt_yday].sum()"
   ]
  },
  {
   "cell_type": "markdown",
   "metadata": {},
   "source": [
    "### Make a new dataframe \n",
    "\n",
    "The dataframe variable should be named `df_table`.\n",
    "\n",
    "This table will summarize the situation for each state with the following column names:\n",
    "\n",
    "1. 'Cases',\n",
    "2. 'Deaths',\n",
    "3. 'PCases',\n",
    "4. 'PDeaths'\n",
    "\n",
    "which correspond to the series defined above.\n",
    "\n",
    "The dataframe should be ordered by highest cases first and then highest deaths (pandas `df.sort_values(sort_values(by = ['Cases','Deaths'], ascending = [False, False])`)\n",
    "\n",
    "After you construct the dataframe, reset the index (`reset_index` in pandas) so that the index is just numbers (like usual python indices).\n"
   ]
  },
  {
   "cell_type": "code",
   "execution_count": 6,
   "metadata": {},
   "outputs": [],
   "source": [
    "# your code here\n"
   ]
  },
  {
   "cell_type": "code",
   "execution_count": 7,
   "metadata": {},
   "outputs": [],
   "source": [
    "df_table.head()"
   ]
  },
  {
   "cell_type": "markdown",
   "metadata": {},
   "source": [
    "We add three more columns to df_table:\n",
    "\n",
    "1. Number of additional cases since yesterday\n",
    "2. Number of additional deaths since yesterday\n",
    "3. Current case fatality rate for each state"
   ]
  },
  {
   "cell_type": "code",
   "execution_count": 10,
   "metadata": {},
   "outputs": [],
   "source": [
    "for c in 'Cases, Deaths'.split(', '):\n",
    "    df_table[f'{c} (+)'] = (df_table[c] - df_table[f'P{c}']).clip(0)\n",
    "df_table['Fatality Rate'] = (100* df_table['Deaths']/ df_table['Cases']).round(2)"
   ]
  },
  {
   "cell_type": "code",
   "execution_count": 11,
   "metadata": {},
   "outputs": [],
   "source": [
    "df_table.head()"
   ]
  },
  {
   "cell_type": "markdown",
   "metadata": {},
   "source": [
    "Your table should look something like below:\n",
    "\n",
    "![](images/df.png)"
   ]
  },
  {
   "cell_type": "markdown",
   "metadata": {},
   "source": [
    "### Now we make a dictionary with a handy summary of high-level data\n",
    "\n",
    "In this dictionary, accesible in the variable `summary`, we store the following:\n",
    "\n",
    "- 'updated': Current date as a string: \"28th July, 2020\"\n",
    "- 'since': a day earlier as a string: \"27th July, 2020\"\n",
    "- Sum of the following columns ['Cases', 'PCases', 'Deaths', 'PDeaths', 'Cases (+)', 'Deaths (+)'] from df_table\n",
    "\n",
    "We print the dictionary to see your result\n",
    "It should look something like this\n",
    "\n",
    "- 'updated': \"28th July, 2020\",\n",
    "- 'since': \"27th July, 2020\",\n",
    "- 'Cases': 1514800,\n",
    "- 'PCases': 33352,\n",
    "- 'Deaths': 34121,\n",
    "- 'PDeaths': 33352,\n",
    "- 'Cases (+)': 1481448,\n",
    "- 'Deaths (+)': 770"
   ]
  },
  {
   "cell_type": "code",
   "execution_count": 13,
   "metadata": {},
   "outputs": [],
   "source": [
    "# your code here\n"
   ]
  },
  {
   "cell_type": "markdown",
   "metadata": {},
   "source": [
    "### Setting up the HTML layout for the summary\n",
    "\n",
    "To present your results we provide you a basic html layout below"
   ]
  },
  {
   "cell_type": "code",
   "execution_count": 14,
   "metadata": {},
   "outputs": [],
   "source": [
    "overview = '''\n",
    "<!-- #######  HTML!! #########-->\n",
    "<h1 style=\"color: #5e9ca0; text-align: center;\">India</h1>\n",
    "<p style=\"text-align: center;\">Last update: <strong>{update}</strong></p>\n",
    "<p style=\"text-align: center;\">Confirmed cases:</p>\n",
    "<p style=\"text-align: center;font-size:24px;\">{cases} (<span style=\"color: #ff0000;\">+{new}</span>)</p>\n",
    "<p style=\"text-align: center;\">Confirmed deaths:</p>\n",
    "<p style=\"text-align: center;font-size:24px;\">{deaths} (<span style=\"color: #ff0000;\">+{dnew}</span>)</p>\n",
    "'''"
   ]
  },
  {
   "cell_type": "markdown",
   "metadata": {},
   "source": [
    "You can fill the above HTML with the information from the summary dictionary.\n",
    "If you have correctly made your summary, you can use the helper code below to see the html output"
   ]
  },
  {
   "cell_type": "code",
   "execution_count": 19,
   "metadata": {},
   "outputs": [],
   "source": [
    "# Fill the above HTML with the information from the summary dictionary\n",
    "\n",
    "update = summary['updated']\n",
    "cases = summary['Cases']\n",
    "new = summary['Cases (+)']\n",
    "deaths = summary['Deaths']\n",
    "dnew = summary['Deaths (+)']\n",
    "\n",
    "html = HTML(overview.format(update=update, cases=cases,new=new,deaths=deaths,dnew=dnew))\n",
    "\n",
    "display(html)"
   ]
  },
  {
   "cell_type": "markdown",
   "metadata": {},
   "source": [
    "## Daily case count bar plots\n",
    "\n",
    "Now, we are going to make plots for the following:\n",
    "\n",
    "1. A bar plot of the total daily cases across India\n",
    "2. A bar plot of the total daily cases in Maharashtra (worst affected)\n",
    "3. A bar plot of the total daily cases across Tamil Nadu (currently second worst affected)\n",
    "4. A bar plot of the total daily cases across Delhi (third worst affected)\n",
    "5. Bar plots of subsequent five worst affected states\n",
    "\n",
    "We could use [subplots]() to do this. However subplots are limited in that they do not allow for customisation of grids. (Read this fantastic [blog on grid customisation](https://jakevdp.github.io/PythonDataScienceHandbook/04.08-multiple-subplots.html) by Jake Vanderplas, author of 'Data Science Handbook')\n",
    "\n",
    "Find more examples and documentations on gridspec [here](https://matplotlib.org/users/gridspec.html)\n",
    "\n",
    "Your output should look a little something like this:\n",
    "![Gridspec output](https://github.com/hargun3045/blog-dump/blob/master/rahulexercise/rahulexercise.png?raw=true)"
   ]
  },
  {
   "cell_type": "markdown",
   "metadata": {},
   "source": [
    "The csv file gives a cumulative count per state for each day.\n",
    "\n",
    "For graphing purpose, we need the daily case count, which we can get from subtracting from the current day count (which is a cumulative count), the previous days count(also cumulative).\n",
    "\n",
    "We'll make a new dataframe of cases per day and we will sort it descending by the highest case-load on the 28th)"
   ]
  },
  {
   "cell_type": "code",
   "execution_count": 17,
   "metadata": {},
   "outputs": [],
   "source": [
    "dt_cols = list(dft_cases.columns[1:])\n",
    "dft_ct_new_cases = dft_cases.groupby('states')[dt_cols].sum().diff(axis=1).fillna(0).astype(int)\n",
    "dft_ct_new_cases.sort_values(by = '28-Jul-20', ascending = False,inplace = True)"
   ]
  },
  {
   "cell_type": "code",
   "execution_count": 18,
   "metadata": {},
   "outputs": [],
   "source": [
    "dft_ct_new_cases.head()"
   ]
  },
  {
   "cell_type": "markdown",
   "metadata": {},
   "source": [
    "To make plots with custom grid arrangement, we will use gridspec. We dont expect you to be implementing this, but we do expect you to try and read and understand what is going on."
   ]
  },
  {
   "cell_type": "code",
   "execution_count": 21,
   "metadata": {},
   "outputs": [],
   "source": [
    "df = dft_ct_new_cases.copy()\n",
    "df.loc['Total'] = df.sum()\n",
    "n = 5\n",
    "ax = []\n",
    "fig = plt.figure(figsize = (16,20))\n",
    "gs = fig.add_gridspec(n+2, 3)\n",
    "# gs = fig.add_gridspec(2, 3)\n",
    "ax1 = fig.add_subplot(gs[0, :])\n",
    "ef = df.loc['Total'].rename_axis('date').reset_index()\n",
    "ef['date'] = ef['date'].astype('datetime64[ns]')\n",
    "ax1.bar(ef.date,ef.Total,alpha=0.3,color='#007acc')\n",
    "ax1.plot(ef.date,ef.Total , marker=\"o\", color='#007acc')\n",
    "ax1.xaxis.set_major_locator(mdates.WeekdayLocator())\n",
    "ax1.xaxis.set_major_formatter(mdates.DateFormatter('%b %d'))\n",
    "ax1.text(0.02, 0.5,'India daily case count', transform = ax1.transAxes, fontsize=25);\n",
    "ax1.spines['right'].set_visible(False)\n",
    "ax1.spines['top'].set_visible(False)\n",
    "\n",
    "ax2 = fig.add_subplot(gs[1,0])\n",
    "ef = df.loc['Maharashtra'].rename_axis('date').reset_index()\n",
    "ef['date'] = ef['date'].astype('datetime64[ns]')\n",
    "\n",
    "ax2.bar(ef.date, ef.Maharashtra,color = '#007acc',alpha=0.5)\n",
    "ax2.xaxis.set_major_locator(mdates.WeekdayLocator())\n",
    "ax2.xaxis.set_major_formatter(mdates.DateFormatter('%b %d'))\n",
    "ax2.set_xticks(ax2.get_xticks()[::3])\n",
    "maxyval = ef.Maharashtra.max()\n",
    "ax2.set_ylim([0,maxyval])\n",
    "ax2.text(0.05, 0.5,'Maharashtra', transform = ax2.transAxes, fontsize=20);\n",
    "ax2.spines['right'].set_visible(False)\n",
    "ax2.spines['top'].set_visible(False)\n",
    "\n",
    "\n",
    "ax3 = fig.add_subplot(gs[1,1])\n",
    "ef = df.loc['Tamil Nadu'].rename_axis('date').reset_index()\n",
    "ef['date'] = ef['date'].astype('datetime64[ns]')\n",
    "ax3.bar(ef.date, ef['Tamil Nadu'],color = '#007acc',alpha=0.5,)\n",
    "ax3.xaxis.set_major_locator(mdates.WeekdayLocator())\n",
    "ax3.xaxis.set_major_formatter(mdates.DateFormatter('%b %d'))\n",
    "ax3.set_xticks(ax3.get_xticks()[::3])\n",
    "ax3.text(0.05, 0.5,'Tamil Nadu', transform = ax3.transAxes, fontsize=20);\n",
    "ax3.spines['right'].set_visible(False)\n",
    "ax3.spines['top'].set_visible(False)\n",
    "\n",
    "ax4 = fig.add_subplot(gs[1,2])\n",
    "ef = df.loc['Delhi'].rename_axis('date').reset_index()\n",
    "ef['date'] = ef['date'].astype('datetime64[ns]')\n",
    "ax4.bar(ef.date, ef.Delhi,color = '#007acc',alpha=0.5)\n",
    "ax4.set_xticks([])\n",
    "ax4.xaxis.set_major_locator(mdates.WeekdayLocator())\n",
    "ax4.xaxis.set_major_formatter(mdates.DateFormatter('%b %d'))\n",
    "ax4.set_xticks(ax4.get_xticks()[::3])\n",
    "ax4.spines['right'].set_visible(False)\n",
    "ax4.spines['top'].set_visible(False)\n",
    "\n",
    "ax4.text(0.05, 0.5,'Delhi', transform = ax4.transAxes, fontsize=20)\n",
    "\n",
    "for i in range(n):\n",
    "    \n",
    "    ax.append(fig.add_subplot(gs[i+2,:]))\n",
    "    ef = df.iloc[i+3].rename_axis('date').reset_index()\n",
    "    ef['date'] = ef['date'].astype('datetime64[ns]')\n",
    "    ax[i].bar(ef.date,ef.iloc[:,-1],color = '#007acc',alpha=0.3)\n",
    "    ax[i].plot(ef.date,ef.iloc[:,-1],marker='o',color='#007acc')\n",
    "    ax[i].text(0.02,0.5,f'{ef.columns.values[-1]}',transform = ax[i].transAxes, fontsize = 20);\n",
    "    ax[i].xaxis.set_major_locator(mdates.WeekdayLocator())\n",
    "    ax[i].xaxis.set_major_formatter(mdates.DateFormatter('%b %d'))\n",
    "    ax[i].set_ylim([0,7000])\n",
    "    ax[i].spines['right'].set_visible(False)\n",
    "    ax[i].spines['top'].set_visible(False)\n",
    "plt.tight_layout()\n",
    "\n"
   ]
  },
  {
   "cell_type": "markdown",
   "metadata": {},
   "source": [
    "#### Print df_table\n",
    "\n",
    "Finally print ```df_table``` to give a complete overview of cases and deaths "
   ]
  },
  {
   "cell_type": "code",
   "execution_count": 191,
   "metadata": {},
   "outputs": [],
   "source": [
    "print(df_table.to_string(index=False))"
   ]
  },
  {
   "cell_type": "markdown",
   "metadata": {},
   "source": [
    "## 1.3 - Getting your dashboard on your blog\n",
    "\n",
    "Now that you have your dashboard in python notebook, you will have to do the following to get it on your blog.\n",
    "\n",
    "When you are done, it will look something like [this](http://gensectimes.com/BargainBlog/covid-overview-linde-matplotlib-exp/).\n",
    "\n",
    "1. For the code cells you don't want to see, add ```#hide``` on top of the cell\n",
    "2. For the code cells you only want to see the display and not the code, add ```#hide_input```\n",
    "3. Add a title and [front matter](https://fastpages.fast.ai/fastpages/jupyter/2020/02/21/introducing-fastpages.html#Options-via-FrontMatter) to your .ipynb file in the first cell of your notebook (see fastpages sample notebook for example)..it might look like this\n",
    "\n",
    "```markdown\n",
    "# COVID-19 India Matplotlib Overview\n",
    "> Tracking coronavirus total cases, deaths and new cases in India\n",
    "\n",
    "- author: Hargun Oberoi\n",
    "```\n",
    "\n",
    "4. Copy the file to ```YEAR-MONTH-DATE-YuourExistingFilename.ipynb``` format in the _notebooks folder of your blog repo. Check [fastpages](https://fastpages.fast.ai/) for more information\n",
    "5. For markdown cells like the ones you copied from here, there is no way to hide them. Delete them from the target notebook you created in the previous step\n",
    "6. Push your updated repo to github (in the top level folder for the repository, do `git add .; git commit -m \"commit message\" -a; git push`)\n",
    "7. Check if your site build has been successful on github actions\n",
    "\n",
    "For questions on fastpages, refer [here](https://forums.fast.ai/t/fastpages-github-pages-blog-using-nbdev/62828)"
   ]
  },
  {
   "cell_type": "markdown",
   "metadata": {},
   "source": [
    "## 1.4 OPTIONAL AND EXTRA CREDIT\n",
    "\n",
    "Do far we have provided CSV files for the 27th and 28th of July. Fastpages uses github actions to build the blog, so your entire notebook is executed. If you want your dashboard to update every day, you'll need to\n",
    "\n",
    "1. write code to fetch the latest day's csv file\n",
    "2. change your existing code to figure the latest day instead of looking for the 28th (you might want to use `pd.DateTime`)\n",
    "3. setup githib actions so that the notebook is run every day. Instructions [here](https://sanzgiri.github.io/jupyter/2020/04/15/fastpages-jupyter-notebooks.html)\n",
    "\n",
    "Make sure you finish the needed parts firat and Question 2 before you start doing this part."
   ]
  }
 ],
 "metadata": {
  "kernelspec": {
   "display_name": "Python 3",
   "language": "python",
   "name": "python3"
  },
  "language_info": {
   "codemirror_mode": {
    "name": "ipython",
    "version": 3
   },
   "file_extension": ".py",
   "mimetype": "text/x-python",
   "name": "python",
   "nbconvert_exporter": "python",
   "pygments_lexer": "ipython3",
   "version": "3.7.6"
  }
 },
 "nbformat": 4,
 "nbformat_minor": 4
}
